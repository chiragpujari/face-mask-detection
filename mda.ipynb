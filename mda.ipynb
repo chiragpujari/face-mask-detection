{
 "cells": [
  {
   "cell_type": "code",
   "execution_count": 2,
   "metadata": {},
   "outputs": [],
   "source": [
    "from tensorflow.keras.preprocessing.image import ImageDataGenerator\n",
    "from tensorflow.keras.applications import MobileNetV2\n",
    "from tensorflow.keras.layers import AveragePooling2D\n",
    "from tensorflow.keras.layers import Dropout\n",
    "from tensorflow.keras.layers import Flatten    \n",
    "from tensorflow.keras.layers import Dense\n",
    "from tensorflow.keras.layers import Input\n",
    "from tensorflow.keras.models import Model\n",
    "from tensorflow.keras.optimizers import Adam\n",
    "from tensorflow.keras.applications.mobilenet_v2 import preprocess_input\n",
    "from tensorflow.keras.preprocessing.image import img_to_array\n",
    "from tensorflow.keras.preprocessing.image import load_img\n",
    "from tensorflow.keras.utils import to_categorical\n",
    "from sklearn.preprocessing import LabelBinarizer\n",
    "from sklearn.model_selection import train_test_split\n",
    "from sklearn.metrics import classification_report\n",
    "from imutils import paths\n",
    "import matplotlib.pyplot as plt\n",
    "import numpy as np\n",
    "import argparse\n",
    "import os"
   ]
  },
  {
   "cell_type": "code",
   "execution_count": 3,
   "metadata": {},
   "outputs": [],
   "source": [
    "# initialize the initial learning rate, number of epochs to train for,\n",
    "# and batch size\n",
    "INIT_LR = 1e-4\n",
    "EPOCHS = 20\n",
    "BS = 32"
   ]
  },
  {
   "cell_type": "code",
   "execution_count": 11,
   "metadata": {},
   "outputs": [
    {
     "name": "stderr",
     "output_type": "stream",
     "text": [
      "C:\\Users\\chpujari2002\\Documents\\face_mask_detector\\Face-Mask-Detection\\mask_test\\lib\\site-packages\\PIL\\Image.py:962: UserWarning: Palette images with Transparency expressed in bytes should be converted to RGBA images\n",
      "  warnings.warn(\n"
     ]
    },
    {
     "data": {
      "text/plain": [
       "array(['without_mask', 'without_mask', 'without_mask', ..., 'with_mask',\n",
       "       'with_mask', 'with_mask'], dtype='<U12')"
      ]
     },
     "execution_count": 11,
     "metadata": {},
     "output_type": "execute_result"
    }
   ],
   "source": [
    "imagePaths = list(paths.list_images(r'C:\\Users\\chpujari2002\\Documents\\face_mask_detector\\FMD\\dataset'))\n",
    "data = []\n",
    "labels = []\n",
    "\n",
    "# loop over the image paths\n",
    "for imagePath in imagePaths:\n",
    "    # extract the class label from the filename\n",
    "    label = imagePath.split(os.path.sep)[-2]\n",
    "\n",
    "    # load the input image (224x224) and preprocess it\n",
    "    image = load_img(imagePath, target_size=(224, 224))\n",
    "    image = img_to_array(image)\n",
    "    image = preprocess_input(image)\n",
    "\n",
    "    # update the data and labels lists, respectively\n",
    "    data.append(image)\n",
    "    labels.append(label)\n",
    "\n",
    "# convert the data and labels to NumPy arrays\n",
    "data = np.array(data, dtype=\"float32\")\n",
    "labels = np.array(labels)\n",
    "labels"
   ]
  },
  {
   "cell_type": "code",
   "execution_count": 8,
   "metadata": {},
   "outputs": [],
   "source": [
    "# perform one-hot encoding on the labels\n",
    "lb = LabelBinarizer()\n",
    "labels = lb.fit_transform(labels)\n",
    "labels = to_categorical(labels)"
   ]
  },
  {
   "cell_type": "code",
   "execution_count": 10,
   "metadata": {},
   "outputs": [],
   "source": [
    "# partition the data into training and testing splits using 75% of\n",
    "# the data for training and the remaining 25% for testing\n",
    "trainX, testX, trainY, testY = train_test_split(data, labels,test_size=0.20, stratify=labels, random_state=42)"
   ]
  },
  {
   "cell_type": "code",
   "execution_count": 12,
   "metadata": {},
   "outputs": [],
   "source": [
    "# construct the training image generator for data augmentation\n",
    "aug = ImageDataGenerator(rotation_range=20,\n",
    "                         zoom_range=0.15,\n",
    "                         width_shift_range=0.2,\n",
    "                         height_shift_range=0.2,\n",
    "                         shear_range=0.15,\n",
    "                         horizontal_flip=True,\n",
    "                         fill_mode=\"nearest\")"
   ]
  },
  {
   "cell_type": "code",
   "execution_count": 13,
   "metadata": {},
   "outputs": [
    {
     "name": "stdout",
     "output_type": "stream",
     "text": [
      "WARNING:tensorflow:`input_shape` is undefined or non-square, or `rows` is not in [96, 128, 160, 192, 224]. Weights for input shape (224, 224) will be loaded as the default.\n",
      "Downloading data from https://storage.googleapis.com/tensorflow/keras-applications/mobilenet_v2/mobilenet_v2_weights_tf_dim_ordering_tf_kernels_1.0_224_no_top.h5\n",
      "9412608/9406464 [==============================] - 24s 3us/step\n"
     ]
    }
   ],
   "source": [
    "# load the MobileNetV2 network\n",
    "baseModel = MobileNetV2(weights=\"imagenet\", include_top=False, input_tensor=Input(shape=(224, 224, 3)))"
   ]
  },
  {
   "cell_type": "code",
   "execution_count": 14,
   "metadata": {},
   "outputs": [],
   "source": [
    "# construct the head of the model that will be placed on top of the\n",
    "# the base model\n",
    "headModel = baseModel.output\n",
    "headModel = AveragePooling2D(pool_size=(7, 7))(headModel)\n",
    "headModel = Flatten(name=\"flatten\")(headModel)\n",
    "headModel = Dense(128, activation=\"relu\")(headModel)\n",
    "headModel = Dropout(0.5)(headModel)\n",
    "headModel = Dense(2, activation=\"softmax\")(headModel)"
   ]
  },
  {
   "cell_type": "code",
   "execution_count": 15,
   "metadata": {},
   "outputs": [],
   "source": [
    "# place the head FC model on top of the base model (this will become\n",
    "# the actual model we will train)\n",
    "model = Model(inputs=baseModel.input, outputs=headModel)"
   ]
  },
  {
   "cell_type": "code",
   "execution_count": 16,
   "metadata": {},
   "outputs": [
    {
     "name": "stderr",
     "output_type": "stream",
     "text": [
      "C:\\Users\\chpujari2002\\Documents\\face_mask_detector\\Face-Mask-Detection\\mask_test\\lib\\site-packages\\tensorflow\\python\\keras\\optimizer_v2\\optimizer_v2.py:374: UserWarning: The `lr` argument is deprecated, use `learning_rate` instead.\n",
      "  warnings.warn(\n"
     ]
    }
   ],
   "source": [
    "# loop over all layers in the base model and freeze them so they will\n",
    "# *not* be updated during the first training process\n",
    "for layer in baseModel.layers: layer.trainable = False\n",
    "\n",
    "# compile our model\n",
    "opt = Adam(lr=INIT_LR, decay=INIT_LR / EPOCHS)\n",
    "model.compile(loss=\"binary_crossentropy\", optimizer=opt, metrics=[\"accuracy\"])"
   ]
  },
  {
   "cell_type": "code",
   "execution_count": 17,
   "metadata": {},
   "outputs": [
    {
     "name": "stdout",
     "output_type": "stream",
     "text": [
      "Epoch 1/20\n",
      "102/102 [==============================] - 183s 2s/step - loss: 0.5255 - accuracy: 0.7797 - val_loss: 0.1467 - val_accuracy: 0.9829\n",
      "Epoch 2/20\n",
      "102/102 [==============================] - 100s 970ms/step - loss: 0.1672 - accuracy: 0.9618 - val_loss: 0.0824 - val_accuracy: 0.9878\n",
      "Epoch 3/20\n",
      "102/102 [==============================] - 131s 1s/step - loss: 0.1159 - accuracy: 0.9681 - val_loss: 0.0665 - val_accuracy: 0.9866\n",
      "Epoch 4/20\n",
      "102/102 [==============================] - 128s 1s/step - loss: 0.0875 - accuracy: 0.9783 - val_loss: 0.0576 - val_accuracy: 0.9878\n",
      "Epoch 5/20\n",
      "102/102 [==============================] - 129s 1s/step - loss: 0.0720 - accuracy: 0.9811 - val_loss: 0.0514 - val_accuracy: 0.9866\n",
      "Epoch 6/20\n",
      "102/102 [==============================] - 128s 1s/step - loss: 0.0648 - accuracy: 0.9779 - val_loss: 0.0515 - val_accuracy: 0.9853\n",
      "Epoch 7/20\n",
      "102/102 [==============================] - 131s 1s/step - loss: 0.0632 - accuracy: 0.9802 - val_loss: 0.0465 - val_accuracy: 0.9878\n",
      "Epoch 8/20\n",
      "102/102 [==============================] - 133s 1s/step - loss: 0.0576 - accuracy: 0.9845 - val_loss: 0.0440 - val_accuracy: 0.9902\n",
      "Epoch 9/20\n",
      "102/102 [==============================] - 128s 1s/step - loss: 0.0507 - accuracy: 0.9873 - val_loss: 0.0420 - val_accuracy: 0.9902\n",
      "Epoch 10/20\n",
      "102/102 [==============================] - 126s 1s/step - loss: 0.0392 - accuracy: 0.9879 - val_loss: 0.0421 - val_accuracy: 0.9902\n",
      "Epoch 11/20\n",
      "102/102 [==============================] - 123s 1s/step - loss: 0.0434 - accuracy: 0.9897 - val_loss: 0.0461 - val_accuracy: 0.9866\n",
      "Epoch 12/20\n",
      "102/102 [==============================] - 133s 1s/step - loss: 0.0456 - accuracy: 0.9855 - val_loss: 0.0384 - val_accuracy: 0.9890\n",
      "Epoch 13/20\n",
      "102/102 [==============================] - 144s 1s/step - loss: 0.0500 - accuracy: 0.9833 - val_loss: 0.0366 - val_accuracy: 0.9890\n",
      "Epoch 14/20\n",
      "102/102 [==============================] - 127s 1s/step - loss: 0.0384 - accuracy: 0.9871 - val_loss: 0.0356 - val_accuracy: 0.9915\n",
      "Epoch 15/20\n",
      "102/102 [==============================] - 130s 1s/step - loss: 0.0339 - accuracy: 0.9900 - val_loss: 0.0392 - val_accuracy: 0.9902\n",
      "Epoch 16/20\n",
      "102/102 [==============================] - 131s 1s/step - loss: 0.0367 - accuracy: 0.9912 - val_loss: 0.0386 - val_accuracy: 0.9915\n",
      "Epoch 17/20\n",
      "102/102 [==============================] - 129s 1s/step - loss: 0.0319 - accuracy: 0.9911 - val_loss: 0.0354 - val_accuracy: 0.9890\n",
      "Epoch 18/20\n",
      "102/102 [==============================] - 121s 1s/step - loss: 0.0276 - accuracy: 0.9920 - val_loss: 0.0344 - val_accuracy: 0.9878\n",
      "Epoch 19/20\n",
      "102/102 [==============================] - 124s 1s/step - loss: 0.0337 - accuracy: 0.9881 - val_loss: 0.0357 - val_accuracy: 0.9915\n",
      "Epoch 20/20\n",
      "102/102 [==============================] - 120s 1s/step - loss: 0.0347 - accuracy: 0.9867 - val_loss: 0.0358 - val_accuracy: 0.9915\n"
     ]
    }
   ],
   "source": [
    "H = model.fit(aug.flow(trainX, trainY, batch_size=BS),\n",
    "            steps_per_epoch=len(trainX) // BS,\n",
    "            validation_data=(testX, testY),\n",
    "            validation_steps=len(testX) // BS,\n",
    "            epochs=EPOCHS)"
   ]
  },
  {
   "cell_type": "code",
   "execution_count": null,
   "metadata": {},
   "outputs": [],
   "source": [
    "predIdxs = model.predict(testX, batch_size=BS)\n",
    "\n",
    "# for each image in the testing set we need to find the index of the\n",
    "# label with corresponding largest predicted probability\n",
    "predIdxs = np.argmax(predIdxs, axis=1)"
   ]
  },
  {
   "cell_type": "markdown",
   "metadata": {},
   "source": [
    "## Classification Report"
   ]
  },
  {
   "cell_type": "code",
   "execution_count": 19,
   "metadata": {},
   "outputs": [
    {
     "name": "stdout",
     "output_type": "stream",
     "text": [
      "              precision    recall  f1-score   support\n",
      "\n",
      "   with_mask       0.99      1.00      0.99       433\n",
      "without_mask       0.99      0.99      0.99       386\n",
      "\n",
      "    accuracy                           0.99       819\n",
      "   macro avg       0.99      0.99      0.99       819\n",
      "weighted avg       0.99      0.99      0.99       819\n",
      "\n"
     ]
    }
   ],
   "source": [
    "# show a nicely formatted classification report\n",
    "print(classification_report(testY.argmax(axis=1), predIdxs, target_names=lb.classes_))"
   ]
  },
  {
   "cell_type": "markdown",
   "metadata": {},
   "source": [
    "## Save the Model"
   ]
  },
  {
   "cell_type": "code",
   "execution_count": 27,
   "metadata": {},
   "outputs": [],
   "source": [
    "#save model:\n",
    "model.save('mask_detector.h5', save_format=\"h5\")"
   ]
  },
  {
   "cell_type": "code",
   "execution_count": 25,
   "metadata": {},
   "outputs": [
    {
     "data": {
      "image/png": "[encoded data removed]",
      "text/plain": [
       "<Figure size 432x288 with 1 Axes>"
      ]
     },
     "metadata": {},
     "output_type": "display_data"
    }
   ],
   "source": [
    "# plot the training loss and accuracy\n",
    "N = EPOCHS\n",
    "plt.style.use(\"ggplot\")\n",
    "plt.figure()\n",
    "plt.plot(np.arange(0, N), H.history[\"loss\"], label=\"train_loss\")\n",
    "plt.plot(np.arange(0, N), H.history[\"val_loss\"], label=\"val_loss\")\n",
    "plt.plot(np.arange(0, N), H.history[\"accuracy\"], label=\"train_acc\")\n",
    "plt.plot(np.arange(0, N), H.history[\"val_accuracy\"], label=\"val_acc\")\n",
    "plt.title(\"Training Loss and Accuracy\")\n",
    "plt.xlabel(\"Epoch #\")\n",
    "plt.ylabel(\"Loss/Accuracy\")\n",
    "plt.legend(loc=\"center right\")\n",
    "plt.savefig('acc.jpg')"
   ]
  }
 ],
 "metadata": {
  "kernelspec": {
   "display_name": "mask_test",
   "language": "python",
   "name": "mask_test"
  },
  "language_info": {
   "codemirror_mode": {
    "name": "ipython",
    "version": 3
   },
   "file_extension": ".py",
   "mimetype": "text/x-python",
   "name": "python",
   "nbconvert_exporter": "python",
   "pygments_lexer": "ipython3",
   "version": "3.8.5"
  }
 },
 "nbformat": 4,
 "nbformat_minor": 4
}
